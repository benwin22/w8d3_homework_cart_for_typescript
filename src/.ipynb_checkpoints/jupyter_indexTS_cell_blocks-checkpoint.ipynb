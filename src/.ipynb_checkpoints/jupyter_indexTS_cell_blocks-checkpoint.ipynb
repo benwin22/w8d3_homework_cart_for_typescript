{
 "cells": [
  {
   "cell_type": "code",
   "execution_count": 43,
   "id": "5fe19b55",
   "metadata": {},
   "outputs": [],
   "source": [
    "// type Items = {\n",
    "//     id: string,\n",
    "//     name: string,\n",
    "//     price: number,\n",
    "//     description: string\n",
    "// }"
   ]
  },
  {
   "cell_type": "code",
   "execution_count": 44,
   "id": "59422603",
   "metadata": {},
   "outputs": [],
   "source": []
  },
  {
   "cell_type": "code",
   "execution_count": 4,
   "id": "f1a7fe4e",
   "metadata": {},
   "outputs": [],
   "source": [
    "import { v4 as uuid } from \"uuid\"\n",
    "class Items {\n",
    "    id: string\n",
    "    name: string\n",
    "    price: number\n",
    "    description: string\n",
    "    //            \n",
    "    constructor(name:string,price:number,description:string){\n",
    "        this.id = uuid()\n",
    "        this.name = name\n",
    "        this.price = price\n",
    "        this.description = description\n",
    "    }\n",
    "}"
   ]
  },
  {
   "cell_type": "code",
   "execution_count": 5,
   "id": "f0d07281",
   "metadata": {},
   "outputs": [],
   "source": [
    "let item:[id:string, name:string, price:number, description:string]"
   ]
  },
  {
   "cell_type": "code",
   "execution_count": 6,
   "id": "6d6f6bf4",
   "metadata": {},
   "outputs": [],
   "source": [
    "let item1={\n",
    "    id:\"8976-0\",\n",
    "    name:\"apples\",\n",
    "    price:5.99,\n",
    "    description: \"3lbs pink lady apples\"\n",
    "}"
   ]
  },
  {
   "cell_type": "code",
   "execution_count": 25,
   "id": "6e88166c",
   "metadata": {},
   "outputs": [
    {
     "name": "stdout",
     "output_type": "stream",
     "text": [
      "{\n",
      "  id: \u001b[32m'8976-0'\u001b[39m,\n",
      "  name: \u001b[32m'apples'\u001b[39m,\n",
      "  price: \u001b[33m5.99\u001b[39m,\n",
      "  description: \u001b[32m'3lbs pink lady apples'\u001b[39m\n",
      "}\n"
     ]
    }
   ],
   "source": [
    "console.log(item1)"
   ]
  },
  {
   "cell_type": "code",
   "execution_count": 19,
   "id": "2f075127",
   "metadata": {},
   "outputs": [],
   "source": [
    "let item2={\n",
    "    id:\"8432-0\",\n",
    "    name:\"bread\",\n",
    "    price:3.99,\n",
    "    description: \"scratch-made sourdough\"\n",
    "}"
   ]
  },
  {
   "cell_type": "code",
   "execution_count": 28,
   "id": "ac5777eb",
   "metadata": {},
   "outputs": [
    {
     "name": "stdout",
     "output_type": "stream",
     "text": [
      "{\n",
      "  id: \u001b[32m'8432-0'\u001b[39m,\n",
      "  name: \u001b[32m'bread'\u001b[39m,\n",
      "  price: \u001b[33m3.99\u001b[39m,\n",
      "  description: \u001b[32m'scratch-made sourdough'\u001b[39m\n",
      "}\n"
     ]
    }
   ],
   "source": [
    "console.log(item2)"
   ]
  },
  {
   "cell_type": "code",
   "execution_count": 21,
   "id": "8f3a6ee5",
   "metadata": {},
   "outputs": [],
   "source": [
    "let item3={\n",
    "    id:\"4321-0\",\n",
    "    name:\"milk\",\n",
    "    price:2.99,\n",
    "    description: \"1/2 gallon Whole Milk\"\n",
    "}"
   ]
  },
  {
   "cell_type": "code",
   "execution_count": 29,
   "id": "4be86190",
   "metadata": {},
   "outputs": [
    {
     "name": "stdout",
     "output_type": "stream",
     "text": [
      "{\n",
      "  id: \u001b[32m'4321-0'\u001b[39m,\n",
      "  name: \u001b[32m'milk'\u001b[39m,\n",
      "  price: \u001b[33m2.99\u001b[39m,\n",
      "  description: \u001b[32m'1/2 gallon Whole Milk'\u001b[39m\n",
      "}\n"
     ]
    }
   ],
   "source": [
    "console.log(item3)"
   ]
  },
  {
   "cell_type": "code",
   "execution_count": 22,
   "id": "a8446a39",
   "metadata": {},
   "outputs": [],
   "source": [
    "type User = {\n",
    "    id: string,\n",
    "    name: string,\n",
    "    age: number,\n",
    "    cart: string[];\n",
    "}\n"
   ]
  },
  {
   "cell_type": "code",
   "execution_count": null,
   "id": "a62b726b",
   "metadata": {},
   "outputs": [],
   "source": [
    "let cart: [item:string, quantity:string, total:number]\n",
    "// enum?"
   ]
  },
  {
   "cell_type": "code",
   "execution_count": null,
   "id": "e3832bd0",
   "metadata": {},
   "outputs": [],
   "source": [
    "let user1 ={\n",
    "    id:\"shopper-001\",\n",
    "    name:\"Beth\",\n",
    "    age:30,\n",
    "    cart:[item1, item2, item3]\n",
    "}"
   ]
  },
  {
   "cell_type": "code",
   "execution_count": 36,
   "id": "98c3e522",
   "metadata": {},
   "outputs": [],
   "source": [
    "type Cart = {\n",
    "    cartId:string,\n",
    "    cartItems:string [],\n",
    "    cartQuantity:number,\n",
    "    cartTotal: string[]\n",
    "}\n"
   ]
  },
  {
   "cell_type": "code",
   "execution_count": 38,
   "id": "ebfdf8de",
   "metadata": {},
   "outputs": [],
   "source": [
    "let cart1 = {\n",
    "    cartId:\"cart-01\",\n",
    "    cartItems:[\"milk\", \"apples\"],\n",
    "    cartQuantity:2,\n",
    "    cartTotal: [\"item3\"+\"item1\"]\n",
    "}"
   ]
  },
  {
   "cell_type": "code",
   "execution_count": 23,
   "id": "8de631d8",
   "metadata": {},
   "outputs": [],
   "source": []
  },
  {
   "cell_type": "code",
   "execution_count": 68,
   "id": "42cb4357",
   "metadata": {},
   "outputs": [],
   "source": [
    "type newUser ={\n",
    "    name:string,\n",
    "    age:number\n",
    "}"
   ]
  },
  {
   "cell_type": "code",
   "execution_count": 75,
   "id": "6a2247e3",
   "metadata": {},
   "outputs": [],
   "source": [
    "class newUser{\n",
    "    name(){console.log(\"name\")}\n",
    "    age(){console.log(\"age\")}\n",
    "}"
   ]
  },
  {
   "cell_type": "code",
   "execution_count": 76,
   "id": "5bd5f59f",
   "metadata": {},
   "outputs": [],
   "source": [
    "function createUser(newuser:unknown){\n",
    "    if (newuser instanceof newUser){\n",
    "        newuser.name()\n",
    "        newuser.age()\n",
    "    }else{\n",
    "        console.log(\"please enter name and age\")\n",
    "    }\n",
    "}\n"
   ]
  },
  {
   "cell_type": "code",
   "execution_count": null,
   "id": "e7c86f40",
   "metadata": {},
   "outputs": [],
   "source": [
    "type newItem ={\n",
    "    name:string,\n",
    "    price:number,\n",
    "    description:string\n",
    "}"
   ]
  },
  {
   "cell_type": "code",
   "execution_count": 78,
   "id": "bcda745a",
   "metadata": {},
   "outputs": [],
   "source": [
    "class newItem{\n",
    "    name(){console.log(\"name\")}\n",
    "    price(){console.log()}\n",
    "    description(){console.log(\"description\")} \n",
    "}"
   ]
  },
  {
   "cell_type": "code",
   "execution_count": 79,
   "id": "4104ceb0",
   "metadata": {},
   "outputs": [],
   "source": [
    "function createItem(newitem:unknown){\n",
    "    if (newitem instanceof newItem){\n",
    "        newitem.name()\n",
    "        newitem.price()\n",
    "        newitem.description()\n",
    "    }else{\n",
    "        console.log(\"please add new item\")\n",
    "    }\n",
    "}"
   ]
  },
  {
   "cell_type": "code",
   "execution_count": null,
   "id": "416e6a3d",
   "metadata": {},
   "outputs": [],
   "source": [
    "type addTo={\n",
    "//     object of item type \n",
    "//     object of User\n",
    "}"
   ]
  },
  {
   "cell_type": "code",
   "execution_count": null,
   "id": "8743424e",
   "metadata": {},
   "outputs": [],
   "source": [
    "class addTo{\n",
    "//     object of item type \n",
    "//     object of User\n",
    "}"
   ]
  },
  {
   "cell_type": "code",
   "execution_count": null,
   "id": "1969d3e3",
   "metadata": {},
   "outputs": [],
   "source": [
    "// need a way to count & add(+)\n",
    "function addToCart(addto:unknown){\n",
    "    if (addto instanceof addTo){\n",
    "//     object of item type \n",
    "//     object of User        \n",
    "    }else{\n",
    "        console.log(\"add something to cart\")\n",
    "    }\n",
    "}"
   ]
  },
  {
   "cell_type": "code",
   "execution_count": null,
   "id": "497d08dc",
   "metadata": {},
   "outputs": [],
   "source": [
    "type removeFrom={\n",
    "//     object of item type \n",
    "//     object of User       \n",
    "}"
   ]
  },
  {
   "cell_type": "code",
   "execution_count": null,
   "id": "8048ba6f",
   "metadata": {},
   "outputs": [],
   "source": [
    "class removeFrom{\n",
    "//     object of item type \n",
    "//     object of User       \n",
    "}"
   ]
  },
  {
   "cell_type": "code",
   "execution_count": null,
   "id": "f60a66fe",
   "metadata": {},
   "outputs": [],
   "source": [
    "// need a way to count & subtract(-)\n",
    "function removeFromCart(removefrom:unknown){\n",
    "    if (removefrom instanceof removeFrom){\n",
    "//     object of item type \n",
    "//     object of User   \n",
    "    }else{\n",
    "        console.log(\"do you want to remove item?\")\n",
    "    }\n",
    "}"
   ]
  },
  {
   "cell_type": "code",
   "execution_count": null,
   "id": "17fe1e92",
   "metadata": {},
   "outputs": [],
   "source": [
    "// Step 4: Create Driver Code to emulate a front end user"
   ]
  },
  {
   "cell_type": "code",
   "execution_count": null,
   "id": "ecdb8651",
   "metadata": {},
   "outputs": [],
   "source": [
    "// Create 3 Items to Sell. For this example we will call them Item A Item B and Item C (you can name them anything that make sense)"
   ]
  },
  {
   "cell_type": "code",
   "execution_count": null,
   "id": "149d4a9f",
   "metadata": {},
   "outputs": [],
   "source": [
    "// Add Item A to the users Cart"
   ]
  },
  {
   "cell_type": "code",
   "execution_count": null,
   "id": "20f358bd",
   "metadata": {},
   "outputs": [],
   "source": [
    "// print the contents of the user's cart\n",
    "// print the Total of the user's cart"
   ]
  },
  {
   "cell_type": "code",
   "execution_count": null,
   "id": "200edc98",
   "metadata": {},
   "outputs": [],
   "source": [
    "// Add 3 Items to the users Cart"
   ]
  },
  {
   "cell_type": "code",
   "execution_count": null,
   "id": "e8ad984c",
   "metadata": {},
   "outputs": [],
   "source": [
    "// print the contents of the user's cart\n",
    "// print the Total of the user's cart"
   ]
  },
  {
   "cell_type": "code",
   "execution_count": null,
   "id": "dd663176",
   "metadata": {},
   "outputs": [],
   "source": [
    "// Use your remove (not remove by Quantity function) to remove all of Items from your cart"
   ]
  },
  {
   "cell_type": "code",
   "execution_count": null,
   "id": "eb765629",
   "metadata": {},
   "outputs": [],
   "source": [
    "// print the contents of the user's cart\n",
    "// print the Total of the user's cart"
   ]
  },
  {
   "cell_type": "code",
   "execution_count": null,
   "id": "82942f67",
   "metadata": {},
   "outputs": [],
   "source": []
  },
  {
   "cell_type": "code",
   "execution_count": null,
   "id": "0f76a3d6",
   "metadata": {},
   "outputs": [],
   "source": []
  }
 ],
 "metadata": {
  "kernelspec": {
   "display_name": "TypeScript",
   "language": "typescript",
   "name": "tslab"
  },
  "language_info": {
   "codemirror_mode": {
    "mode": "typescript",
    "name": "javascript",
    "typescript": true
   },
   "file_extension": ".ts",
   "mimetype": "text/typescript",
   "name": "typescript",
   "version": "3.7.2"
  }
 },
 "nbformat": 4,
 "nbformat_minor": 5
}
